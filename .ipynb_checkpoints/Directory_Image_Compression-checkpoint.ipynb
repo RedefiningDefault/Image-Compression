{
 "cells": [
  {
   "cell_type": "markdown",
   "id": "0065f40d",
   "metadata": {},
   "source": [
    "## For assistancing updating or fixing this notebook, please contact:\n",
    "### Redefining Default LLC\n",
    "www.redefining-default.com\n",
    "<br>\n",
    "kirsten@redefining-default.com\n",
    "<br>\n",
    "571-510-0139"
   ]
  },
  {
   "cell_type": "code",
   "execution_count": 166,
   "id": "042fc882",
   "metadata": {},
   "outputs": [],
   "source": [
    "from PIL import Image\n",
    "import PIL\n",
    "import os\n",
    "import glob\n",
    "import PySimpleGUI as sg\n",
    "from tkinter import font\n",
    "import tkinter\n",
    "import requests"
   ]
  },
  {
   "cell_type": "code",
   "execution_count": 111,
   "id": "c1394b71",
   "metadata": {},
   "outputs": [
    {
     "name": "stdout",
     "output_type": "stream",
     "text": [
      "['bitstream charter', 'clean', 'clearlyu', 'clearlyu alternate glyphs', 'clearlyu arabic', 'clearlyu arabic extra', 'clearlyu devanagari', 'clearlyu devangari extra', 'clearlyu ligature', 'clearlyu pua', 'courier 10 pitch', 'fangsong ti', 'fixed', 'gothic', 'mincho', 'newspaper', 'nil', 'open look cursor', 'open look glyph', 'song ti']\n"
     ]
    }
   ],
   "source": [
    "#sg.theme_previewer()\n",
    "#root = tkinter.Tk()\n",
    "#fonts = list(font.families())\n",
    "#fonts.sort()\n",
    "#root.destroy()\n",
    "#print(fonts)"
   ]
  },
  {
   "cell_type": "code",
   "execution_count": 204,
   "id": "571eb6cc",
   "metadata": {},
   "outputs": [],
   "source": [
    "#Get Redefining Default Logo\n",
    "logo_url = \"https://redefining-default.com/wp-content/uploads/2021/09/Logo-Banner_transparent.png\"\n",
    "response = requests.get(logo_url, stream=True)\n",
    "response.raw.decode_content = True"
   ]
  },
  {
   "cell_type": "code",
   "execution_count": 200,
   "id": "86adf24b",
   "metadata": {},
   "outputs": [],
   "source": [
    "def compress_images(directory=False, quality=False):\n",
    "    # 1. If there is a directory then change into it, else perform the next operations inside of the \n",
    "    # current working directory:\n",
    "    if directory:\n",
    "        os.chdir(directory)\n",
    "\n",
    "    # 2. Extract all of the .png and .jpeg files:\n",
    "    files = os.listdir()\n",
    "\n",
    "    # 3. Extract all of the images:\n",
    "    images = [file for file in files if file.endswith(('jpg', 'png'))]\n",
    "    numberofimages = len(images)\n",
    "    print(numberofimages)\n",
    "    window['imagesFound'].update(str(numberofimages) + ' images found in directory. Starting Compression...')\n",
    "    window.Refresh()\n",
    "\n",
    "    # 4. Loop over every image:\n",
    "    imageCount = 0\n",
    "    for image in images:\n",
    "        imageCount += 1\n",
    "        print(image)\n",
    "        window['imageProgress'].update('Compressing Image ' + str(imageCount) + \" of \" + str(numberofimages) + ': \"' + image + '\" ')\n",
    "        window.Refresh()\n",
    "        \n",
    "        # 5. Open every image:\n",
    "        img = Image.open(image)\n",
    "\n",
    "        # 5. Compress every image and save it with a new name:\n",
    "        img.save(\"compressed_\"+image, optimize=True, quality=quality)"
   ]
  },
  {
   "cell_type": "code",
   "execution_count": 205,
   "id": "3ee9d438",
   "metadata": {},
   "outputs": [],
   "source": [
    "#Define the window's contents\n",
    "sg.theme('TealMono')\n",
    "layout = [[sg.Image(data=response.raw.read())],\n",
    "          [sg.Text(\"_\" * 80)],\n",
    "          [sg.Text(\"Where is the folder with the images you want to compress?\",font=(\"fangsong ti\",15))],\n",
    "          [sg.Text(\"Folder Directory:\",size=(20,1)), sg.In(key=\"dir\",size=(80,1), ),sg.FolderBrowse()],\n",
    "          [sg.Text(size=(20,1)),sg.Text(\"ex. /home/folder/folder/imagefolder\",size=(80,1))],\n",
    "          [sg.Text()],\n",
    "          [sg.Text(\"Compression:\",size=(20,1)),sg.Slider(orientation='horizontal',range=(1,95),default_value=75, key=\"qualitySlider\")],\n",
    "          [sg.Text()],\n",
    "          [sg.Button(\"Start Compression\"), sg.Button(\"Exit\")],\n",
    "          [sg.Text()],\n",
    "          [sg.Text(\"Status Updates: \")],\n",
    "          [sg.Text(key=\"imagesFound\")],\n",
    "          [sg.Text(key=\"imageProgress\")],\n",
    "          [sg.Text(key=\"-OUTPUT-\",text_color=\"red\")]]"
   ]
  },
  {
   "cell_type": "code",
   "execution_count": 206,
   "id": "41f066e3",
   "metadata": {},
   "outputs": [],
   "source": [
    "#Create the window\n",
    "window = sg.Window('Bulk Image Compression',layout)"
   ]
  },
  {
   "cell_type": "code",
   "execution_count": 207,
   "id": "f907a98e",
   "metadata": {},
   "outputs": [
    {
     "name": "stdout",
     "output_type": "stream",
     "text": [
      "2\n",
      "Decoder test image.png\n",
      "compressed_Decoder test image.png\n"
     ]
    }
   ],
   "source": [
    "#Display and interact with the window\n",
    "while True:\n",
    "    event, values = window.read()\n",
    "    #See if user wants to quit or window was closed\n",
    "    if event == sg.WINDOW_CLOSED or event == 'Exit':\n",
    "        break\n",
    "    else:\n",
    "        compress_images(directory=values['dir'],quality=values['qualitySlider'])\n",
    "        window['-OUTPUT-'].update('FINISHED compressing all PNG and JPG images in ' + values['dir'])\n",
    "window.close()"
   ]
  },
  {
   "cell_type": "code",
   "execution_count": 208,
   "id": "e1285f3c",
   "metadata": {},
   "outputs": [],
   "source": [
    "# Archive Test Code\n",
    "#print(f\"The current working directory: {os.getcwd()} \")\n",
    "#images = [file for file in os.listdir() if file.endswith(('jpg', 'png' )) and \"example\" in file]\n",
    "#images = [file for file in os.listdir() if file.endswith(('jpg', 'png' ))]\n",
    "#print(f\" Example images: {images}\")\n",
    "# Get the image name:\n",
    "#for image in images:\n",
    "#    print(image.split('.')[0])\n",
    "#for image in images:\n",
    "   # 1. Open the image\n",
    "#    img = Image.open(image)\n",
    "   # 2. Compress the image\n",
    "#    img.save(\"Compressed_and_resized_\"+image,\n",
    "#             optimize=True,\n",
    "#             quality=30)\n"
   ]
  },
  {
   "cell_type": "markdown",
   "id": "e5c4474f",
   "metadata": {},
   "source": [
    "## MIT License\n",
    "### Copyright (c) 2021 Redefining Default LLC\n",
    "Permission is hereby granted, free of charge, to any person obtaining a copy\n",
    "of this software and associated documentation files (the \"Software\"), to deal\n",
    "in the Software without restriction, including without limitation the rights\n",
    "to use, copy, modify, merge, publish, distribute, sublicense, and/or sell\n",
    "copies of the Software, and to permit persons to whom the Software is\n",
    "furnished to do so, subject to the following conditions:\n",
    "\n",
    "The above copyright notice and this permission notice shall be included in all\n",
    "copies or substantial portions of the Software.\n",
    "\n",
    "THE SOFTWARE IS PROVIDED \"AS IS\", WITHOUT WARRANTY OF ANY KIND, EXPRESS OR\n",
    "IMPLIED, INCLUDING BUT NOT LIMITED TO THE WARRANTIES OF MERCHANTABILITY,\n",
    "FITNESS FOR A PARTICULAR PURPOSE AND NONINFRINGEMENT. IN NO EVENT SHALL THE\n",
    "AUTHORS OR COPYRIGHT HOLDERS BE LIABLE FOR ANY CLAIM, DAMAGES OR OTHER\n",
    "LIABILITY, WHETHER IN AN ACTION OF CONTRACT, TORT OR OTHERWISE, ARISING FROM,\n",
    "OUT OF OR IN CONNECTION WITH THE SOFTWARE OR THE USE OR OTHER DEALINGS IN THE\n",
    "SOFTWARE."
   ]
  },
  {
   "cell_type": "code",
   "execution_count": null,
   "id": "da4cfc3f",
   "metadata": {},
   "outputs": [],
   "source": []
  }
 ],
 "metadata": {
  "kernelspec": {
   "display_name": "Python 3 (ipykernel)",
   "language": "python",
   "name": "python3"
  },
  "language_info": {
   "codemirror_mode": {
    "name": "ipython",
    "version": 3
   },
   "file_extension": ".py",
   "mimetype": "text/x-python",
   "name": "python",
   "nbconvert_exporter": "python",
   "pygments_lexer": "ipython3",
   "version": "3.9.7"
  }
 },
 "nbformat": 4,
 "nbformat_minor": 5
}
